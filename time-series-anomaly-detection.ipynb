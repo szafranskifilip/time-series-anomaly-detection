{
 "cells": [
  {
   "cell_type": "markdown",
   "id": "d3779b40-1224-4715-825f-140fab974c3d",
   "metadata": {},
   "source": [
    "## Time series anomaly detection with Local Outlier Factor (LOF) and AWS EC2 CPU Utilization Data"
   ]
  },
  {
   "cell_type": "code",
   "execution_count": 152,
   "id": "b7694398-1605-4e44-975a-5a2f30766fdb",
   "metadata": {},
   "outputs": [],
   "source": [
    "import pandas as pd\n",
    "import numpy as np\n",
    "import matplotlib.pyplot as plt\n",
    "from sklearn.neighbors import LocalOutlierFactor\n",
    "from sklearn.metrics import confusion_matrix, ConfusionMatrixDisplay, accuracy_score, precision_score, recall_score, f1_score\n",
    "\n",
    "import warnings\n",
    "warnings.filterwarnings('ignore')\n",
    "\n",
    "%matplotlib inline"
   ]
  },
  {
   "cell_type": "markdown",
   "id": "f870d482-9977-4c42-bc4b-1d0725c37c5e",
   "metadata": {},
   "source": [
    "### Dataset - AWS EC2 CPU Utilization Data"
   ]
  },
  {
   "cell_type": "code",
   "execution_count": 2,
   "id": "df920f2f-17f4-4580-8076-8ed66ca63727",
   "metadata": {},
   "outputs": [
    {
     "data": {
      "text/html": [
       "<div>\n",
       "<style scoped>\n",
       "    .dataframe tbody tr th:only-of-type {\n",
       "        vertical-align: middle;\n",
       "    }\n",
       "\n",
       "    .dataframe tbody tr th {\n",
       "        vertical-align: top;\n",
       "    }\n",
       "\n",
       "    .dataframe thead th {\n",
       "        text-align: right;\n",
       "    }\n",
       "</style>\n",
       "<table border=\"1\" class=\"dataframe\">\n",
       "  <thead>\n",
       "    <tr style=\"text-align: right;\">\n",
       "      <th></th>\n",
       "      <th>timestamp</th>\n",
       "      <th>value</th>\n",
       "    </tr>\n",
       "  </thead>\n",
       "  <tbody>\n",
       "    <tr>\n",
       "      <th>0</th>\n",
       "      <td>2014-02-14 14:30:00</td>\n",
       "      <td>0.132</td>\n",
       "    </tr>\n",
       "    <tr>\n",
       "      <th>1</th>\n",
       "      <td>2014-02-14 14:35:00</td>\n",
       "      <td>0.134</td>\n",
       "    </tr>\n",
       "    <tr>\n",
       "      <th>2</th>\n",
       "      <td>2014-02-14 14:40:00</td>\n",
       "      <td>0.134</td>\n",
       "    </tr>\n",
       "    <tr>\n",
       "      <th>3</th>\n",
       "      <td>2014-02-14 14:45:00</td>\n",
       "      <td>0.134</td>\n",
       "    </tr>\n",
       "    <tr>\n",
       "      <th>4</th>\n",
       "      <td>2014-02-14 14:50:00</td>\n",
       "      <td>0.134</td>\n",
       "    </tr>\n",
       "    <tr>\n",
       "      <th>5</th>\n",
       "      <td>2014-02-14 14:55:00</td>\n",
       "      <td>0.134</td>\n",
       "    </tr>\n",
       "    <tr>\n",
       "      <th>6</th>\n",
       "      <td>2014-02-14 15:00:00</td>\n",
       "      <td>0.134</td>\n",
       "    </tr>\n",
       "    <tr>\n",
       "      <th>7</th>\n",
       "      <td>2014-02-14 15:05:00</td>\n",
       "      <td>0.134</td>\n",
       "    </tr>\n",
       "    <tr>\n",
       "      <th>8</th>\n",
       "      <td>2014-02-14 15:10:00</td>\n",
       "      <td>0.066</td>\n",
       "    </tr>\n",
       "    <tr>\n",
       "      <th>9</th>\n",
       "      <td>2014-02-14 15:15:00</td>\n",
       "      <td>0.132</td>\n",
       "    </tr>\n",
       "  </tbody>\n",
       "</table>\n",
       "</div>"
      ],
      "text/plain": [
       "             timestamp  value\n",
       "0  2014-02-14 14:30:00  0.132\n",
       "1  2014-02-14 14:35:00  0.134\n",
       "2  2014-02-14 14:40:00  0.134\n",
       "3  2014-02-14 14:45:00  0.134\n",
       "4  2014-02-14 14:50:00  0.134\n",
       "5  2014-02-14 14:55:00  0.134\n",
       "6  2014-02-14 15:00:00  0.134\n",
       "7  2014-02-14 15:05:00  0.134\n",
       "8  2014-02-14 15:10:00  0.066\n",
       "9  2014-02-14 15:15:00  0.132"
      ]
     },
     "execution_count": 2,
     "metadata": {},
     "output_type": "execute_result"
    }
   ],
   "source": [
    "df = pd.read_csv('ec2_cpu_utilization_24ae8d.csv')\n",
    "df.head(10)"
   ]
  },
  {
   "cell_type": "code",
   "execution_count": 3,
   "id": "2707238c-eab8-4a16-ba63-b8c7640d5ada",
   "metadata": {},
   "outputs": [
    {
     "name": "stdout",
     "output_type": "stream",
     "text": [
      "<class 'pandas.core.frame.DataFrame'>\n",
      "RangeIndex: 4032 entries, 0 to 4031\n",
      "Data columns (total 2 columns):\n",
      " #   Column     Non-Null Count  Dtype  \n",
      "---  ------     --------------  -----  \n",
      " 0   timestamp  4032 non-null   object \n",
      " 1   value      4032 non-null   float64\n",
      "dtypes: float64(1), object(1)\n",
      "memory usage: 63.1+ KB\n"
     ]
    }
   ],
   "source": [
    "df.info()"
   ]
  },
  {
   "cell_type": "code",
   "execution_count": 4,
   "id": "ca28dc2f-2415-4522-b233-257b13831e86",
   "metadata": {},
   "outputs": [
    {
     "data": {
      "text/plain": [
       "[Text(0.5, 0, 'Timestamp'), Text(0, 0.5, 'Value')]"
      ]
     },
     "execution_count": 4,
     "metadata": {},
     "output_type": "execute_result"
    },
    {
     "data": {
      "image/png": "[encoded data removed]",
      "text/plain": [
       "<Figure size 1008x576 with 1 Axes>"
      ]
     },
     "metadata": {
      "needs_background": "light"
     },
     "output_type": "display_data"
    }
   ],
   "source": [
    "fig, ax = plt.subplots(figsize=(14, 8))\n",
    "ax.scatter(df.index, df['value'], color='blue', s=5)\n",
    "ax.tick_params(axis='x', rotation=90)\n",
    "ax.set(xlabel='Timestamp', ylabel='Value')"
   ]
  },
  {
   "cell_type": "code",
   "execution_count": 5,
   "id": "cc8ee10a-4adb-46f9-af88-79ddf6f38731",
   "metadata": {},
   "outputs": [],
   "source": [
    "#Label anomalies for further model performance evaluation"
   ]
  },
  {
   "cell_type": "code",
   "execution_count": 29,
   "id": "cabb7f2d-bcd0-4180-9460-ad0e4c2c2a41",
   "metadata": {},
   "outputs": [],
   "source": [
    "anomalies_timestamp = [\"2014-02-26 22:05:00\"]"
   ]
  },
  {
   "cell_type": "code",
   "execution_count": 30,
   "id": "b61c220c-57a4-403f-a632-92b8822c4fb6",
   "metadata": {},
   "outputs": [
    {
     "data": {
      "text/html": [
       "<div>\n",
       "<style scoped>\n",
       "    .dataframe tbody tr th:only-of-type {\n",
       "        vertical-align: middle;\n",
       "    }\n",
       "\n",
       "    .dataframe tbody tr th {\n",
       "        vertical-align: top;\n",
       "    }\n",
       "\n",
       "    .dataframe thead th {\n",
       "        text-align: right;\n",
       "    }\n",
       "</style>\n",
       "<table border=\"1\" class=\"dataframe\">\n",
       "  <thead>\n",
       "    <tr style=\"text-align: right;\">\n",
       "      <th></th>\n",
       "      <th>timestamp</th>\n",
       "      <th>value</th>\n",
       "      <th>is_anomaly</th>\n",
       "    </tr>\n",
       "  </thead>\n",
       "  <tbody>\n",
       "    <tr>\n",
       "      <th>0</th>\n",
       "      <td>2014-02-14 14:30:00</td>\n",
       "      <td>0.132</td>\n",
       "      <td>1</td>\n",
       "    </tr>\n",
       "    <tr>\n",
       "      <th>1</th>\n",
       "      <td>2014-02-14 14:35:00</td>\n",
       "      <td>0.134</td>\n",
       "      <td>1</td>\n",
       "    </tr>\n",
       "    <tr>\n",
       "      <th>2</th>\n",
       "      <td>2014-02-14 14:40:00</td>\n",
       "      <td>0.134</td>\n",
       "      <td>1</td>\n",
       "    </tr>\n",
       "    <tr>\n",
       "      <th>3</th>\n",
       "      <td>2014-02-14 14:45:00</td>\n",
       "      <td>0.134</td>\n",
       "      <td>1</td>\n",
       "    </tr>\n",
       "    <tr>\n",
       "      <th>4</th>\n",
       "      <td>2014-02-14 14:50:00</td>\n",
       "      <td>0.134</td>\n",
       "      <td>1</td>\n",
       "    </tr>\n",
       "  </tbody>\n",
       "</table>\n",
       "</div>"
      ],
      "text/plain": [
       "             timestamp  value  is_anomaly\n",
       "0  2014-02-14 14:30:00  0.132           1\n",
       "1  2014-02-14 14:35:00  0.134           1\n",
       "2  2014-02-14 14:40:00  0.134           1\n",
       "3  2014-02-14 14:45:00  0.134           1\n",
       "4  2014-02-14 14:50:00  0.134           1"
      ]
     },
     "execution_count": 30,
     "metadata": {},
     "output_type": "execute_result"
    }
   ],
   "source": [
    "df['is_anomaly'] = 1\n",
    "for timestamp in anomalies_timestamp:\n",
    "    df.loc[df['timestamp'] == timestamp, 'is_anomaly'] = -1\n",
    "df.head()"
   ]
  },
  {
   "cell_type": "code",
   "execution_count": 31,
   "id": "ef7fb200-a424-4d7f-8b86-85b0d76a09c4",
   "metadata": {},
   "outputs": [
    {
     "data": {
      "text/html": [
       "<div>\n",
       "<style scoped>\n",
       "    .dataframe tbody tr th:only-of-type {\n",
       "        vertical-align: middle;\n",
       "    }\n",
       "\n",
       "    .dataframe tbody tr th {\n",
       "        vertical-align: top;\n",
       "    }\n",
       "\n",
       "    .dataframe thead th {\n",
       "        text-align: right;\n",
       "    }\n",
       "</style>\n",
       "<table border=\"1\" class=\"dataframe\">\n",
       "  <thead>\n",
       "    <tr style=\"text-align: right;\">\n",
       "      <th></th>\n",
       "      <th>timestamp</th>\n",
       "      <th>value</th>\n",
       "      <th>is_anomaly</th>\n",
       "    </tr>\n",
       "  </thead>\n",
       "  <tbody>\n",
       "    <tr>\n",
       "      <th>3547</th>\n",
       "      <td>2014-02-26 22:05:00</td>\n",
       "      <td>2.344</td>\n",
       "      <td>-1</td>\n",
       "    </tr>\n",
       "  </tbody>\n",
       "</table>\n",
       "</div>"
      ],
      "text/plain": [
       "                timestamp  value  is_anomaly\n",
       "3547  2014-02-26 22:05:00  2.344          -1"
      ]
     },
     "execution_count": 31,
     "metadata": {},
     "output_type": "execute_result"
    }
   ],
   "source": [
    "df[df['is_anomaly']==-1]"
   ]
  },
  {
   "cell_type": "code",
   "execution_count": 32,
   "id": "a29b1db3-47a7-4d70-a9e7-c8728619c388",
   "metadata": {},
   "outputs": [],
   "source": [
    "df_inlier = df[df['is_anomaly'] == 1]\n",
    "df_outlier = df[df['is_anomaly'] == -1]"
   ]
  },
  {
   "cell_type": "code",
   "execution_count": 155,
   "id": "4779bb5a-97a8-409a-8b81-f81b4e3eb4fd",
   "metadata": {},
   "outputs": [
    {
     "data": {
      "text/plain": [
       "<matplotlib.legend.Legend at 0x7fd3a9147190>"
      ]
     },
     "execution_count": 155,
     "metadata": {},
     "output_type": "execute_result"
    },
    {
     "data": {
      "image/png": "[encoded data removed]",
      "text/plain": [
       "<Figure size 1008x576 with 1 Axes>"
      ]
     },
     "metadata": {
      "needs_background": "light"
     },
     "output_type": "display_data"
    }
   ],
   "source": [
    "fig, ax = plt.subplots(figsize=(14, 8))\n",
    "ax.scatter(df_inlier.index, df_inlier['value'], color='blue', s=5)\n",
    "ax.scatter(df_outlier.index, df_outlier['value'], color='red', s=20, label='Anomaly')\n",
    "ax.tick_params(axis='x', rotation=90)\n",
    "ax.set(xlabel='Timestamp', ylabel='CPU Usage')\n",
    "ax.legend(loc=2)"
   ]
  },
  {
   "cell_type": "code",
   "execution_count": 11,
   "id": "cfb65edc-d81c-46e1-b4a8-469f63de01b7",
   "metadata": {},
   "outputs": [],
   "source": [
    "#Split the dataset into train and test sets. The training set no to be polluted with outliers.\n",
    "df_train = df[:3540]\n",
    "df_test = df[3540:]"
   ]
  },
  {
   "cell_type": "code",
   "execution_count": 12,
   "id": "5d455ebd-273b-4e5a-a112-1697bbd11d97",
   "metadata": {},
   "outputs": [
    {
     "data": {
      "text/plain": [
       "array([[0.132],\n",
       "       [0.134],\n",
       "       [0.134],\n",
       "       ...,\n",
       "       [0.2  ],\n",
       "       [0.134],\n",
       "       [0.066]])"
      ]
     },
     "execution_count": 12,
     "metadata": {},
     "output_type": "execute_result"
    }
   ],
   "source": [
    "#train test with no outliers\n",
    "X_train = df_train['value'].values.reshape(-1,1)\n",
    "X_train"
   ]
  },
  {
   "cell_type": "code",
   "execution_count": 13,
   "id": "9e454e85-3274-45b5-80b4-0c0a17f3599a",
   "metadata": {},
   "outputs": [
    {
     "data": {
      "text/plain": [
       "array([[0.132],\n",
       "       [0.134],\n",
       "       [0.066],\n",
       "       [0.134],\n",
       "       [0.132],\n",
       "       [0.132],\n",
       "       [2.344],\n",
       "       [0.134],\n",
       "       [0.066]])"
      ]
     },
     "execution_count": 13,
     "metadata": {},
     "output_type": "execute_result"
    }
   ],
   "source": [
    "#test set cointaining outliers\n",
    "X_test = df_test['value'].values.reshape(-1,1)\n",
    "X_test[1:10]"
   ]
  },
  {
   "cell_type": "markdown",
   "id": "cff55bdd-0d50-40dd-94e1-bd01ec3b1925",
   "metadata": {},
   "source": [
    "### Local outlier factor (LOF)\n",
    "\n",
    "**2.7. Novelty and Outlier Detection**\n",
    "Many applications require being able to decide whether a new observation belongs to the same distribution as existing observations (it is an inlier), or should be considered as different (it is an outlier). Often, this ability is used to clean real data sets. Two important distinctions must be made:\n",
    "\n",
    "**Outlier detection**:\n",
    "The training data contains outliers which are defined as observations that are far from the others. Outlier detection estimators thus try to fit the regions where the training data is the most concentrated, ignoring the deviant observations.\n",
    "\n",
    "**Novelty detection**:\n",
    "The training data is not polluted by outliers and we are interested in detecting whether a new observation is an outlier. In this context an outlier is also called a novelty."
   ]
  },
  {
   "cell_type": "code",
   "execution_count": 22,
   "id": "37203a26-66b4-4598-b847-97be9772a83c",
   "metadata": {},
   "outputs": [
    {
     "data": {
      "text/plain": [
       "0.0020325203252032522"
      ]
     },
     "execution_count": 22,
     "metadata": {},
     "output_type": "execute_result"
    }
   ],
   "source": [
    "#The amount of contamination of the data set, i.e. the proportion of outliers in the data set\n",
    "contamination = 1/len(df)\n",
    "contamination"
   ]
  },
  {
   "cell_type": "code",
   "execution_count": 61,
   "id": "eac953e7-f9ac-4cc6-a269-8c18d5f695ae",
   "metadata": {},
   "outputs": [
    {
     "data": {
      "text/plain": [
       "LocalOutlierFactor(contamination=0.0020325203252032522, n_neighbors=25,\n",
       "                   novelty=True)"
      ]
     },
     "execution_count": 61,
     "metadata": {},
     "output_type": "execute_result"
    }
   ],
   "source": [
    "clf = LocalOutlierFactor(contamination=contamination, novelty=True, n_neighbors=25)\n",
    "clf.fit(X_train)"
   ]
  },
  {
   "cell_type": "code",
   "execution_count": 62,
   "id": "3d5237a5-746b-42d9-9dc1-78df768a095b",
   "metadata": {},
   "outputs": [],
   "source": [
    "y_pred = clf.predict(X_test)"
   ]
  },
  {
   "cell_type": "code",
   "execution_count": 63,
   "id": "67a28195-7896-4577-91ac-3a3d1d30d9ff",
   "metadata": {},
   "outputs": [
    {
     "data": {
      "image/png": "[encoded data removed]",
      "text/plain": [
       "<Figure size 432x288 with 2 Axes>"
      ]
     },
     "metadata": {
      "needs_background": "light"
     },
     "output_type": "display_data"
    }
   ],
   "source": [
    "cm = confusion_matrix(df_test['is_anomaly'], y_pred, labels=[1, -1])\n",
    "disp_cm = ConfusionMatrixDisplay(cm, display_labels=[1, -1])\n",
    "disp_cm.plot();"
   ]
  },
  {
   "cell_type": "code",
   "execution_count": 148,
   "id": "9a522675-ddb8-4364-b6c7-fa8cf1935382",
   "metadata": {},
   "outputs": [],
   "source": [
    "#Investigating the optimal value for n_neighbours\n",
    "accuracy_results=[]\n",
    "precision_results=[]\n",
    "recall_results=[]\n",
    "f1_score_results=[]\n",
    "\n",
    "for n in range(10,100,2):\n",
    "    clf = LocalOutlierFactor(contamination=contamination, novelty=True, n_neighbors=n)\n",
    "    clf.fit(X_train)\n",
    "    y_pred = clf.predict(X_test)\n",
    "    accuracy_results.append(accuracy_score(df_test['is_anomaly'], y_pred))\n",
    "    precision_results.append(precision_score(df_test['is_anomaly'], y_pred))\n",
    "    f1_score_results.append(f1_score(df_test['is_anomaly'], y_pred))\n",
    "    recall_results.append(recall_score(df_test['is_anomaly'], y_pred))\n",
    "    "
   ]
  },
  {
   "cell_type": "code",
   "execution_count": 156,
   "id": "e3015dc5-5e0f-45aa-8513-6e28bec2076e",
   "metadata": {},
   "outputs": [
    {
     "data": {
      "image/png": "[encoded data removed]",
      "text/plain": [
       "<Figure size 720x864 with 4 Axes>"
      ]
     },
     "metadata": {
      "needs_background": "light"
     },
     "output_type": "display_data"
    }
   ],
   "source": [
    "fig, (ax1, ax2, ax3, ax4) = plt.subplots(4, 1, figsize=(10, 12))\n",
    "fig.suptitle('Performance Metrics')\n",
    "\n",
    "ax1.plot(list(range(10,100,2)), accuracy_results)\n",
    "ax1.set_ylabel('Accuracy')\n",
    "\n",
    "ax2.plot(list(range(10,100,2)), precision_results)\n",
    "ax2.set_ylabel('Precision')\n",
    "\n",
    "ax3.plot(list(range(10,100,2)), f1_score_results)\n",
    "ax3.set_ylabel('F1 Score')\n",
    "\n",
    "ax4.plot(list(range(10,100,2)), recall_results)\n",
    "ax4.set_xlabel('n_neighbors')\n",
    "ax4.set_ylabel('Recall')\n",
    "plt.tight_layout()\n",
    "plt.show()"
   ]
  },
  {
   "cell_type": "markdown",
   "id": "e2220a04-3cd3-43f3-820e-6df94e5e2741",
   "metadata": {},
   "source": [
    "Performance metrics for classification machine learning models are used to evaluate the performance and accuracy of the model's predictions. These metrics help in understanding how well the model is performing in classifying the data into different classes. \n",
    "\n",
    "Evaluating performance metrics for imbalanced models requires careful consideration and the use of appropriate metrics that can handle imbalanced datasets. In imbalanced datasets, one class may have significantly more samples than the other, leading to biased evaluations if standard metrics like accuracy are used.\n",
    "\n",
    "**Some of the commonly used performance metrics:**\n",
    "\n",
    "1. **Accuracy**: The ratio of correctly predicted instances to the total number of instances. It gives an overall measure of how well the model is performing.\n",
    "\n",
    "2. **Precision**: The ratio of true positive (TP) predictions to the total number of positive predictions (TP + false positives (FP)). It measures the accuracy of positive predictions.\n",
    "\n",
    "3. **Recall** (Sensitivity or True Positive Rate): The ratio of true positive (TP) predictions to the total number of actual positive instances (TP + false negatives (FN)). It measures the ability of the model to identify positive instances.\n",
    "\n",
    "4. **F1 Score**: The harmonic mean of precision and recall. It provides a balance between precision and recall when dealing with imbalanced datasets.\n",
    "\n",
    "5. **Specificity** (True Negative Rate): The ratio of true negative (TN) predictions to the total number of actual negative instances (TN + false positives (FP)). It measures the ability of the model to identify negative instances.\n",
    "\n",
    "6. **Area Under the Receiver Operating Characteristic Curve (AUC-ROC)**: The area under the ROC curve, which represents the trade-off between true positive rate (recall) and false positive rate across different classification thresholds. It provides a measure of how well the model can distinguish between classes.\n",
    "\n",
    "7. **Area Under the Precision-Recall Curve (AUC-PR)**: The area under the precision-recall curve, which measures the trade-off between precision and recall for different classification thresholds. It is particularly useful for imbalanced datasets.\n",
    "\n",
    "8. **Confusion Matrix**: A matrix that summarizes the model's predictions compared to the actual labels. It includes true positive (TP), true negative (TN), false positive (FP), and false negative (FN) counts.\n",
    "\n",
    "The choice of performance metric depends on the problem, the class distribution, and the specific requirements of the application. For instance, in cases of imbalanced datasets, metrics like F1 score and AUC-PR are more informative than accuracy. It is essential to consider multiple metrics to get a comprehensive understanding of the model's performance."
   ]
  }
 ],
 "metadata": {
  "kernelspec": {
   "display_name": "Python 3 (ipykernel)",
   "language": "python",
   "name": "python3"
  },
  "language_info": {
   "codemirror_mode": {
    "name": "ipython",
    "version": 3
   },
   "file_extension": ".py",
   "mimetype": "text/x-python",
   "name": "python",
   "nbconvert_exporter": "python",
   "pygments_lexer": "ipython3",
   "version": "3.9.13"
  }
 },
 "nbformat": 4,
 "nbformat_minor": 5
}
